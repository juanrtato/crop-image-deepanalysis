{
 "cells": [
  {
   "cell_type": "markdown",
   "id": "ae25ccaa",
   "metadata": {},
   "source": [
    "<h1 align=\"left\">Dataset Factory</h1>\n",
    "\n",
    "<p align=\"left\">\n",
    "  ITESM\n",
    "  \n",
    "  <a href=\"https://www.linkedin.com/in/juanrtato/\">Juan Ricardo Albarracin B.</a>\n",
    "  <br>\n",
    "  <a href=\"\">Luis Ángel Oporto Añacato.</a>\n",
    "  <br>\n",
    "  <a href=\"\">David Alexis García Espinosa.</a>\n",
    "  <br>\n",
    "  <b>Last updated:</b> <i>17/05/2025</i>\n",
    "  <br><br>\n",
    "  <a target=\"_blank\">\n",
    "    <img src=\"https://github.com/QData/TextAttack/workflows/Github%20PyTest/badge.svg\" alt=\"Testing\">\n",
    "  </a>\n",
    "  <a href=\"https://img.shields.io/badge/version-0.1.0-blue.svg?cacheSeconds=2592000\">\n",
    "    <img src=\"https://img.shields.io/badge/version-0.1.0-blue.svg?cacheSeconds=2592000\" alt=\"Version\" height=\"18\">\n",
    "  </a>\n",
    "</p><br>"
   ]
  },
  {
   "cell_type": "code",
   "execution_count": 2,
   "id": "50751532",
   "metadata": {},
   "outputs": [],
   "source": [
    "CONFIG_PATH = '../datalake/config_vtt.json'\n",
    "MODEL_PATH = '../datalake/TSVIT/best.pth'\n",
    "import sys\n",
    "import os\n",
    "sys.path.append(os.path.abspath(os.path.join(os.getcwd(), '..', 'scripts')))"
   ]
  },
  {
   "cell_type": "code",
   "execution_count": 3,
   "id": "5a2326cd",
   "metadata": {},
   "outputs": [],
   "source": [
    "os.environ[\"CUDA_LAUNCH_BLOCKING\"] = \"1\""
   ]
  },
  {
   "cell_type": "code",
   "execution_count": 4,
   "id": "194ef977",
   "metadata": {},
   "outputs": [
    {
     "name": "stderr",
     "output_type": "stream",
     "text": [
      "/home/juanrtato/miniconda3/envs/myenv/lib/python3.10/site-packages/tqdm/auto.py:21: TqdmWarning: IProgress not found. Please update jupyter and ipywidgets. See https://ipywidgets.readthedocs.io/en/stable/user_install.html\n",
      "  from .autonotebook import tqdm as notebook_tqdm\n"
     ]
    }
   ],
   "source": [
    "import ast\n",
    "import json\n",
    "import torch\n",
    "from tsvit import torch_utils, model_architecture\n",
    "from visiontotext import visiontotextmodel\n",
    "from pastis24 import get_dataloaders"
   ]
  },
  {
   "cell_type": "code",
   "execution_count": 5,
   "id": "7e13928a",
   "metadata": {},
   "outputs": [
    {
     "name": "stdout",
     "output_type": "stream",
     "text": [
      "2.7.0+cu126\n",
      "12.6\n",
      "True\n"
     ]
    }
   ],
   "source": [
    "print(torch.__version__)\n",
    "print(torch.version.cuda)\n",
    "print(torch.cuda.is_available())"
   ]
  },
  {
   "cell_type": "code",
   "execution_count": 6,
   "id": "148e2f68",
   "metadata": {},
   "outputs": [],
   "source": [
    "device_ids = [0]\n",
    "with open(CONFIG_PATH, 'r') as f:\n",
    "    config = json.load(f)\n",
    "device = torch_utils.get_device(device_ids, allow_cpu=False)\n",
    "with open(\"../datalake/label_names_en.json\", \"r\") as json_file:\n",
    "    label_names_en = json.load(json_file)\n",
    "with open(\"../datalake/colormap.txt\", \"r\") as txt_file:\n",
    "    colormap = txt_file.readlines()\n",
    "colormap = [ast.literal_eval(line.strip().rstrip(',')) for line in colormap]"
   ]
  },
  {
   "cell_type": "code",
   "execution_count": 7,
   "id": "1c7b5d41",
   "metadata": {},
   "outputs": [
    {
     "name": "stdout",
     "output_type": "stream",
     "text": [
      "Loading PASTIS2SEQUENCE dataset...\n",
      "PASTIS2SEQUENCE dataset loaded!\n"
     ]
    }
   ],
   "source": [
    "records = []\n",
    "dataloaders_vtt = get_dataloaders(config)"
   ]
  },
  {
   "cell_type": "code",
   "execution_count": 12,
   "id": "4520e51e",
   "metadata": {},
   "outputs": [
    {
     "name": "stdout",
     "output_type": "stream",
     "text": [
      "Sample input shape: torch.Size([24, 60, 24, 24, 11])\n",
      "Texts: ('This area has been identified with the crop of soft winter wheat spanning approximately 45900 m2, winter rapeseed spanning approximately 8400 m2, which accounts for a considerable fraction of the total agricultural area: 57600 m2.\\n', 'The crop of can be seen in the image leguminous fodder with a coverage of approximately 17500 m2, which covers a notable fraction of the total arable land: 57600 m2.\\n', 'The image highlights the crop of grapevine with a coverage of approximately 43300 m2, winter durum wheat with a coverage of approximately 1300 m2, leguminous fodder with a coverage of approximately 100 m2, which equals a meaningful portion of the cultivated land in the region: 57600 m2.\\n', 'No crop presence was recorded in this region.', 'No crop presence was recorded in this region.', 'The crop appearing in the image is soft winter wheat occupying around 14900 m2, winter barley covering about 1000 m2, which forms an essential part of the total agricultural area: 57600 m2.\\n', 'The crop of is visible in the image grapevine with an estimated surface of 46100 m2, which corresponds to a relevant part of the cultivated area in this zone: 57600 m2.\\n', 'The image reflects the crop of meadow with a dimension close to 17500 m2, winter triticale covering an area close to 28300 m2, which covers a notable fraction of the total arable land: 57600 m2.\\n', 'The image corresponds to an area without detected crops.', 'The image shows a cultivated area of meadow with an estimated size of 21700 m2, which equals a meaningful portion of the cultivated land in the region: 57600 m2.\\n', 'A crop of can be identified in the image meadow representing an area of around 52400 m2, which corresponds to a relevant part of the cultivated area in this zone: 57600 m2.\\n', 'This land shows the presence of the crop of meadow representing an area of around 7100 m2, soft winter wheat with a dimension close to 35000 m2, winter barley with an estimated size of 900 m2, which forms an essential part of the total agricultural area: 57600 m2.\\n', 'No visible crops appear in the analyzed image.', 'The crop of can be seen in the image meadow covering about 54500 m2, which accounts for a considerable fraction of the total agricultural area: 57600 m2.\\n', 'The crop of is visible in the image meadow covering an area close to 41500 m2, which constitutes an important part of the agricultural area in the region: 57600 m2.\\n', 'This land shows the presence of the crop of soft winter wheat with a coverage of approximately 28400 m2, corn representing an area of around 200 m2, soybeans with an approximate area of 11000 m2, which constitutes an important part of the agricultural area in the region: 57600 m2.\\n', 'The image highlights the crop of meadow covering about 50600 m2, winter triticale with an approximate area of 600 m2, which accounts for a considerable fraction of the total agricultural area: 57600 m2.\\n', 'No visible crops appear in the analyzed image.', 'The image highlights the crop of meadow with an approximate area of 45900 m2, which forms an essential part of the total agricultural area: 57600 m2.\\n', 'The image reflects the crop of meadow covering about 3100 m2, soft winter wheat with a dimension close to 45200 m2, corn with a coverage of approximately 7800 m2, which covers a notable fraction of the total arable land: 57600 m2.\\n', 'The image displays the crop of meadow with an estimated surface of 14300 m2, corn with a coverage of approximately 700 m2, which represents a significant percentage of the total agricultural area: 57600 m2.\\n', 'The image reveals a crop of sunflower with a coverage of approximately 2500 m2, winter durum wheat with a coverage of approximately 14000 m2, fruits,  vegetables, flowers representing an area of around 9500 m2, leguminous fodder with an estimated surface of 1100 m2, which accounts for a considerable fraction of the total agricultural area: 57600 m2.\\n', 'The image highlights the crop of meadow covering an area close to 13900 m2, winter rapeseed covering an area close to 2900 m2, leguminous fodder with an approximate area of 17100 m2, which corresponds to a considerable share of the available agricultural area: 57600 m2.\\n', 'The image displays the crop of beet representing an area of around 47900 m2, which covers a notable fraction of the total arable land: 57600 m2.\\n')\n",
      "Image path: ('../datalake/PASTIS24/pickle24x24/10450_0.pickle', '../datalake/PASTIS24/pickle24x24/20095_9.pickle', '../datalake/PASTIS24/pickle24x24/20654_8.pickle', '../datalake/PASTIS24/pickle24x24/40506_11.pickle', '../datalake/PASTIS24/pickle24x24/20447_2.pickle', '../datalake/PASTIS24/pickle24x24/10040_2.pickle', '../datalake/PASTIS24/pickle24x24/20613_24.pickle', '../datalake/PASTIS24/pickle24x24/40516_7.pickle', '../datalake/PASTIS24/pickle24x24/20046_4.pickle', '../datalake/PASTIS24/pickle24x24/20250_16.pickle', '../datalake/PASTIS24/pickle24x24/30346_17.pickle', '../datalake/PASTIS24/pickle24x24/30556_16.pickle', '../datalake/PASTIS24/pickle24x24/30271_9.pickle', '../datalake/PASTIS24/pickle24x24/30466_7.pickle', '../datalake/PASTIS24/pickle24x24/30654_13.pickle', '../datalake/PASTIS24/pickle24x24/30005_16.pickle', '../datalake/PASTIS24/pickle24x24/30375_9.pickle', '../datalake/PASTIS24/pickle24x24/30271_24.pickle', '../datalake/PASTIS24/pickle24x24/10401_24.pickle', '../datalake/PASTIS24/pickle24x24/30610_8.pickle', '../datalake/PASTIS24/pickle24x24/40406_9.pickle', '../datalake/PASTIS24/pickle24x24/20096_11.pickle', '../datalake/PASTIS24/pickle24x24/30033_18.pickle', '../datalake/PASTIS24/pickle24x24/10336_21.pickle')\n"
     ]
    }
   ],
   "source": [
    "sample = next(iter(dataloaders_vtt['train']))\n",
    "sample_dict, texts, img_path = sample\n",
    "print(\"Sample input shape:\", sample_dict['inputs'].shape)\n",
    "print(\"Texts:\", texts) # has the same length as sample_dict['inputs'] (batch size)\n",
    "print(\"Image path:\", img_path) # has the same length as sample_dict['inputs'] (batch size)"
   ]
  }
 ],
 "metadata": {
  "kernelspec": {
   "display_name": "myenv",
   "language": "python",
   "name": "python3"
  },
  "language_info": {
   "codemirror_mode": {
    "name": "ipython",
    "version": 3
   },
   "file_extension": ".py",
   "mimetype": "text/x-python",
   "name": "python",
   "nbconvert_exporter": "python",
   "pygments_lexer": "ipython3",
   "version": "3.9.21"
  }
 },
 "nbformat": 4,
 "nbformat_minor": 5
}
