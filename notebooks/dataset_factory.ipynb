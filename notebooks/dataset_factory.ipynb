{
 "cells": [
  {
   "cell_type": "markdown",
   "id": "ae25ccaa",
   "metadata": {},
   "source": [
    "<h1 align=\"left\">Dataset Factory</h1>\n",
    "\n",
    "<p align=\"left\">\n",
    "  ITESM\n",
    "  \n",
    "  <a href=\"https://www.linkedin.com/in/juanrtato/\">Juan Ricardo Albarracin B.</a>\n",
    "  <br>\n",
    "  <a href=\"\">Luis Ángel Oporto Añacato.</a>\n",
    "  <br>\n",
    "  <a href=\"\">David Alexis García Espinosa.</a>\n",
    "  <br>\n",
    "  <b>Last updated:</b> <i>17/05/2025</i>\n",
    "  <br><br>\n",
    "  <a target=\"_blank\">\n",
    "    <img src=\"https://github.com/QData/TextAttack/workflows/Github%20PyTest/badge.svg\" alt=\"Testing\">\n",
    "  </a>\n",
    "  <a href=\"https://img.shields.io/badge/version-0.1.0-blue.svg?cacheSeconds=2592000\">\n",
    "    <img src=\"https://img.shields.io/badge/version-0.1.0-blue.svg?cacheSeconds=2592000\" alt=\"Version\" height=\"18\">\n",
    "  </a>\n",
    "</p><br>"
   ]
  },
  {
   "cell_type": "code",
   "execution_count": 1,
   "id": "50751532",
   "metadata": {},
   "outputs": [],
   "source": [
    "CONFIG_PATH = '../datalake/config_vtt.json'\n",
    "MODEL_PATH = '../datalake/TSVIT/best.pth'\n",
    "import sys\n",
    "import os\n",
    "sys.path.append(os.path.abspath(os.path.join(os.getcwd(), '..', 'scripts')))"
   ]
  },
  {
   "cell_type": "code",
   "execution_count": 2,
   "id": "5a2326cd",
   "metadata": {},
   "outputs": [],
   "source": [
    "os.environ[\"CUDA_LAUNCH_BLOCKING\"] = \"1\""
   ]
  },
  {
   "cell_type": "code",
   "execution_count": 3,
   "id": "194ef977",
   "metadata": {},
   "outputs": [
    {
     "name": "stderr",
     "output_type": "stream",
     "text": [
      "/home/juanrtato/miniconda3/envs/myenv/lib/python3.10/site-packages/tqdm/auto.py:21: TqdmWarning: IProgress not found. Please update jupyter and ipywidgets. See https://ipywidgets.readthedocs.io/en/stable/user_install.html\n",
      "  from .autonotebook import tqdm as notebook_tqdm\n"
     ]
    }
   ],
   "source": [
    "import ast\n",
    "import json\n",
    "import torch\n",
    "from tsvit import torch_utils, model_architecture\n",
    "from visiontotext import visiontotextmodel\n",
    "from pastis24 import get_dataloaders"
   ]
  },
  {
   "cell_type": "code",
   "execution_count": 4,
   "id": "7e13928a",
   "metadata": {},
   "outputs": [
    {
     "name": "stdout",
     "output_type": "stream",
     "text": [
      "2.7.0+cu126\n",
      "12.6\n",
      "True\n"
     ]
    }
   ],
   "source": [
    "print(torch.__version__)\n",
    "print(torch.version.cuda)\n",
    "print(torch.cuda.is_available())"
   ]
  },
  {
   "cell_type": "code",
   "execution_count": 5,
   "id": "148e2f68",
   "metadata": {},
   "outputs": [],
   "source": [
    "device_ids = [0]\n",
    "with open(CONFIG_PATH, 'r') as f:\n",
    "    config = json.load(f)\n",
    "device = torch_utils.get_device(device_ids, allow_cpu=False)\n",
    "with open(\"../datalake/label_names_en.json\", \"r\") as json_file:\n",
    "    label_names_en = json.load(json_file)\n",
    "with open(\"../datalake/colormap.txt\", \"r\") as txt_file:\n",
    "    colormap = txt_file.readlines()\n",
    "colormap = [ast.literal_eval(line.strip().rstrip(',')) for line in colormap]"
   ]
  },
  {
   "cell_type": "code",
   "execution_count": 7,
   "id": "1c7b5d41",
   "metadata": {},
   "outputs": [
    {
     "name": "stdout",
     "output_type": "stream",
     "text": [
      "Loading PASTIS2SEQUENCE dataset\n",
      "PASTIS2SEQUENCE dataset loaded\n"
     ]
    }
   ],
   "source": [
    "records = []\n",
    "dataloaders_vtt = get_dataloaders(config)"
   ]
  }
 ],
 "metadata": {
  "kernelspec": {
   "display_name": "myenv",
   "language": "python",
   "name": "python3"
  },
  "language_info": {
   "codemirror_mode": {
    "name": "ipython",
    "version": 3
   },
   "file_extension": ".py",
   "mimetype": "text/x-python",
   "name": "python",
   "nbconvert_exporter": "python",
   "pygments_lexer": "ipython3",
   "version": "3.10.16"
  }
 },
 "nbformat": 4,
 "nbformat_minor": 5
}
